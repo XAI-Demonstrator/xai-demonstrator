{
 "cells": [
  {
   "cell_type": "code",
   "execution_count": 1,
   "metadata": {
    "collapsed": true
   },
   "outputs": [],
   "source": [
    "import os, os.path\n",
    "import pathlib\n",
    "import random\n",
    "import sys\n",
    "\n",
    "import numpy as np\n",
    "import cv2\n",
    "import matplotlib.pyplot as plt\n",
    "import matplotlib"
   ]
  },
  {
   "cell_type": "code",
   "execution_count": 2,
   "metadata": {
    "collapsed": false,
    "pycharm": {
     "name": "#%%\n"
    }
   },
   "outputs": [],
   "source": [
    "os.getcwd()\n",
    "INSPECTION_PATH = pathlib.Path(os.getcwd()).parent / \"country-backend\"\n",
    "sys.path.append(str(INSPECTION_PATH.absolute()))"
   ]
  },
  {
   "cell_type": "code",
   "execution_count": 3,
   "metadata": {
    "collapsed": false,
    "pycharm": {
     "name": "#%%\n"
    }
   },
   "outputs": [
    {
     "name": "stderr",
     "output_type": "stream",
     "text": [
      "2022-02-24 08:56:07.261678: I tensorflow/core/platform/cpu_feature_guard.cc:151] This TensorFlow binary is optimized with oneAPI Deep Neural Network Library (oneDNN) to use the following CPU instructions in performance-critical operations:  AVX2 FMA\n",
      "To enable them in other operations, rebuild TensorFlow with the appropriate compiler flags.\n"
     ]
    }
   ],
   "source": [
    "from country.model.predict import model\n",
    "from country.model.predict import preprocess, prediction, predict_image"
   ]
  },
  {
   "cell_type": "code",
   "execution_count": 4,
   "metadata": {
    "collapsed": false,
    "pycharm": {
     "name": "#%%\n"
    }
   },
   "outputs": [],
   "source": [
    "from country.explainer.new_lime_ import explain_image\n",
    "from PIL import Image\n"
   ]
  },
  {
   "cell_type": "code",
   "execution_count": null,
   "metadata": {},
   "outputs": [],
   "source": [
    "### adjustments for multiclass/binary model ###\n",
    "\n",
    "# in predict.py change: \n",
    "# - ln.12 -> model \n",
    "# - choose (by comment out/in) desired decode_model_output method: multiclass or binary\n",
    "# -> then load imports in jpyn again / restart jupyter kernel"
   ]
  },
  {
   "cell_type": "code",
   "execution_count": null,
   "metadata": {},
   "outputs": [],
   "source": [
    "# To do notes #\n",
    "\n",
    "# get more images for Images 3 - > Images 4 with 100 images for each city\n",
    "# currently (Images3): only one false prediction on country basis "
   ]
  },
  {
   "cell_type": "code",
   "execution_count": null,
   "metadata": {},
   "outputs": [],
   "source": [
    "### Test 1: Explain images and save ###"
   ]
  },
  {
   "cell_type": "code",
   "execution_count": 9,
   "metadata": {},
   "outputs": [
    {
     "name": "stdout",
     "output_type": "stream",
     "text": [
      "0\n",
      "Prediction: Westjerusalem\n",
      "Label: neu\n",
      "1\n",
      "Prediction: Hamburg\n",
      "Label: neu\n",
      "2\n",
      "Prediction: Tel_Aviv\n",
      "Label: neu\n",
      "3\n",
      "Prediction: Tel_Aviv\n",
      "Label: neu\n"
     ]
    }
   ],
   "source": [
    "#load images\n",
    "images = []\n",
    "names = []\n",
    "labels = []\n",
    "\n",
    "#images -> load according to which model is used\n",
    "'''\n",
    "paths = [\"/Users/theresatroger/z_GTC_Results/Images2/Berlin\", \t#for both multiclass and binary country model\n",
    "\t\t\t\"/Users/theresatroger/z_GTC_Results/Images2/Hamburg\", \n",
    "\t\t\t\"/Users/theresatroger/z_GTC_Results/Images2/Tel_Aviv\", \n",
    "\t\t\t\"/Users/theresatroger/z_GTC_Results/Images2/Westjerusalem\"]\n",
    "'''\n",
    "'''\n",
    "paths = [\"/Users/theresatroger/z_GTC_Results/Images2/Berlin\", \t#for binary germany model\n",
    "\t\t\t\"/Users/theresatroger/z_GTC_Results/Images2/Hamburg\"]\n",
    "'''\n",
    "'''\n",
    "paths = [\"/Users/theresatroger/z_GTC_Results/Images2/Tel_Aviv\", #for binary israel model\n",
    "\t\t\t\"/Users/theresatroger/z_GTC_Results/Images2/Westjerusalem\"]\n",
    "'''\n",
    "paths = [\"/Users/theresatroger/z_GTC_Results/Umfrage_welches_Modell/Images/schwer/neu\"]\n",
    "pathresults = \"/Users/theresatroger/z_GTC_Results/Umfrage_welches_Modell/explanations/20220224_explanations/\" #results\n",
    "\n",
    "for path in paths:\n",
    "\tfor f in os.listdir(path):\n",
    "\t\tif f.endswith(\".png\"):\n",
    "\t\t\timages.append(cv2.imread(os.path.join(path,f)))\n",
    "\t\t\tnames.append(f)\n",
    "\t\t\tlabels.append(path.split(\"/\")[-1])\n",
    "\n",
    "#print(names)\n",
    "#print (labels)\t\n",
    "\n",
    "for i, img in enumerate(images):\n",
    "\t#1 preprocess image and get prediction\n",
    "\tprint (i)\n",
    "\timg = preprocess(img)\n",
    "\tprediction = predict_image(img)\n",
    "\timg = np.squeeze(img)\n",
    "\tprint (\"Prediction:\", prediction)\t\n",
    "\tprint (\"Label:\", labels[i])\t\n",
    "    #2 create explanation\n",
    "\timage_explanation = explain_image(img = img, seg_method = \"slic\", seg_settings = {}, num_of_samples = 700, samples_p = 0.5,\n",
    "\t\t\t\t\tmodel_ = model, threshold = 0.5, volume = 20, colour =  \"green\", transparency = 0.7) \n",
    "\t#3 save image\n",
    "\t#out_img = np.hstack((img,image_explanation))\n",
    "\tmatplotlib.image.imsave(pathresults+str(i)+str(labels[i])+\"_\"+str(prediction)+\".png\", ((image_explanation+1)*127.5/255))\n",
    "\t"
   ]
  },
  {
   "cell_type": "code",
   "execution_count": null,
   "metadata": {},
   "outputs": [],
   "source": [
    "### Test 2: Explaining images with certain prediction"
   ]
  },
  {
   "cell_type": "code",
   "execution_count": null,
   "metadata": {},
   "outputs": [],
   "source": [
    "#load images\n",
    "images = []\n",
    "names = []\n",
    "labels = []\n",
    "\n",
    "#images -> load according to which model is used\n",
    "'''\n",
    "paths = [\"/Users/theresatroger/z_GTC_Results/Images4/Berlin\", \t#for both multiclass and binary country model\n",
    "\t\t\t\"/Users/theresatroger/z_GTC_Results/Images4/Hamburg\", \n",
    "\t\t\t\"/Users/theresatroger/z_GTC_Results/Images4/Tel_Aviv\", \n",
    "\t\t\t\"/Users/theresatroger/z_GTC_Results/Images4/Westjerusalem\"]\n",
    "'''\n",
    "paths = [\"/Users/theresatroger/z_GTC_Results/Images4/Berlin\", \t#for binary germany model\n",
    "\t\t\t\"/Users/theresatroger/z_GTC_Results/Images4/Hamburg\"]\n",
    "'''\n",
    "paths = [\"/Users/theresatroger/z_GTC_Results/Images4/Tel_Aviv\", #for binary israel model\n",
    "\t\t\t\"/Users/theresatroger/z_GTC_Results/Images4/Westjerusalem\"]\n",
    "'''\n",
    "pathresults = \"/Users/theresatroger/z_GTC_Results/Test_Images4_falsepredictions/Results_germany/\" #results\n",
    "\n",
    "for path in paths:\n",
    "\tfor f in os.listdir(path):\n",
    "\t\tif f.endswith(\".png\"):\n",
    "\t\t\timages.append(cv2.imread(os.path.join(path,f)))\n",
    "\t\t\tnames.append(f)\n",
    "\t\t\tlabels.append(path.split(\"/\")[-1])\n",
    "\n",
    "\n",
    "#print(names)\n",
    "#print (labels)\t\n",
    "count_no_match = 0\n",
    "\n",
    "for i, img in enumerate(images):\n",
    "\t#1 preprocess image\n",
    "\timg = preprocess(img)\n",
    "\tprediction = predict_image(img)\n",
    "\timg = np.squeeze(img)\n",
    "\tprint (i)\n",
    "\tprint (\"Prediction:\", prediction)\t\n",
    "\tprint (\"Label:\", labels[i])\t\n",
    "\n",
    "    #explain only images with certain prediction   -> adapt according to binary prediction output\n",
    "\t#if (prediction == \"Israel\" and labels[i] == (\"Berlin\" or \"Hamburg\")) or (prediction == \"Germany\" and labels[i] == (\"Tel_Aviv\" or \"Westjerusalem\")):\n",
    "\tif prediction != labels[i]: \n",
    "\t\tprint (i, \"no match\")\n",
    "\t\tcount_no_match += 1\n",
    "\t\t#2 explain image\n",
    "\t\timage_explanation = explain_image(img = img, seg_method = \"slic\", seg_settings = {}, num_of_samples = 700, samples_p = 0.5,\n",
    "\t\t\t\t\tmodel_ = model, threshold = 0.5, volume = 20, colour =  \"green\", transparency = 0.7) \n",
    "\t\t#3 save image\n",
    "\t\tout_img = np.hstack((img,image_explanation))\n",
    "\t\tmatplotlib.image.imsave(pathresults+str(i)+str(labels[i])+\"_\"+str(prediction)+\".png\", ((out_img+1)*127.5/255)) #scale back from original scaling while preprocessing\n",
    "\telse: \n",
    "\t\tprint (i, \"match\")\n",
    "\n",
    "print (\"Total no matches:\", count_no_match)"
   ]
  },
  {
   "cell_type": "code",
   "execution_count": null,
   "metadata": {},
   "outputs": [],
   "source": []
  },
  {
   "cell_type": "code",
   "execution_count": null,
   "metadata": {},
   "outputs": [],
   "source": [
    "### generate explanation for one image without saving ###"
   ]
  },
  {
   "cell_type": "code",
   "execution_count": null,
   "metadata": {},
   "outputs": [],
   "source": [
    "img = cv2.imread(\"/Users/theresatroger/Desktop/Images/Westjerusalem1.png\")\n",
    "img = preprocess(img)\n",
    "img = np.squeeze(img)\n",
    "\n",
    "\n",
    "plt.imshow((img +1)*127.5/255)\n",
    "plt.axis(\"off\")\n",
    "plt.show()\n",
    "\n",
    "image_explanation = explain_image(img = img, seg_method = \"slic\", seg_settings = {}, num_of_samples = 700, samples_p = 0.5,\n",
    "                  model_ = model, threshold = 0.5, volume = 20, colour =  \"green\", transparency = 0.7)\n",
    "\n",
    "plt.imshow((image_explanation +1)*127.5/255)\n",
    "plt.axis(\"off\")\n",
    "plt.show()\n",
    "\n"
   ]
  },
  {
   "cell_type": "code",
   "execution_count": null,
   "metadata": {},
   "outputs": [],
   "source": [
    "### test binary prediciton ### "
   ]
  },
  {
   "cell_type": "code",
   "execution_count": null,
   "metadata": {},
   "outputs": [],
   "source": [
    "berlin1 = preprocess(cv2.imread(\"/Users/theresatroger/z_GTC_Results/Images1/Berlin/Berlin1.png\"))\n",
    "berlin2 = preprocess(cv2.imread(\"/Users/theresatroger/z_GTC_Results/Images1/Berlin/Berlin2.png\"))\n",
    "telaviv1 = preprocess(cv2.imread(\"/Users/theresatroger/z_GTC_Results/Images1/Tel_Aviv/TelAviv1.png\"))\n",
    "telaviv2 = preprocess(cv2.imread(\"/Users/theresatroger/z_GTC_Results/Images1/Tel_Aviv/TelAviv2.png\"))\n",
    "hamburg1 = preprocess(cv2.imread(\"/Users/theresatroger/z_GTC_Results/Images1/Hamburg/Hamburg1.png\"))\n",
    "hamburg2 = preprocess(cv2.imread(\"/Users/theresatroger/z_GTC_Results/Images1/Hamburg/Hamburg2.png\"))\n",
    "westjerusalem1 = preprocess(cv2.imread(\"/Users/theresatroger/z_GTC_Results/Images1/Westjerusalem/Westjerusalem1.png\"))\n",
    "westjerusalem2 = preprocess(cv2.imread(\"/Users/theresatroger/z_GTC_Results/Images1/Westjerusalem/Westjerusalem2.png\"))\n",
    "\n",
    "#pb1 = predict_image(berlin1)\n",
    "#pb2 = predict_image(berlin2)\n",
    "pt1 = predict_image(telaviv1)\n",
    "pt2 = predict_image(telaviv2)\n",
    "#ph1 = predict_image(hamburg1)\n",
    "#ph2 = predict_image(hamburg2)\n",
    "pw1 = predict_image(westjerusalem1)\n",
    "pw2 = predict_image(westjerusalem2)\n",
    "#print (\"Berlin\", pb1, pb2)\n",
    "print (\"Tel Aviv\", pt1, pt2)\n",
    "#print (\"Hamburg\", ph1, ph2)\n",
    "print (\"Westjerusalem\", pw1, pw2)"
   ]
  }
 ],
 "metadata": {
  "kernelspec": {
   "display_name": "Python 3 (ipykernel)",
   "language": "python",
   "name": "python3"
  },
  "language_info": {
   "codemirror_mode": {
    "name": "ipython",
    "version": 3
   },
   "file_extension": ".py",
   "mimetype": "text/x-python",
   "name": "python",
   "nbconvert_exporter": "python",
   "pygments_lexer": "ipython3",
   "version": "3.8.12"
  }
 },
 "nbformat": 4,
 "nbformat_minor": 0
}