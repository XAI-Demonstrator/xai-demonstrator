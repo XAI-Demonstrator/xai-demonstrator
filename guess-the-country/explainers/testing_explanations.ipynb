{
 "cells": [
  {
   "cell_type": "code",
   "execution_count": null,
   "outputs": [],
   "source": [
    "import os, os.path\n",
    "import pathlib\n",
    "import random\n",
    "import sys\n",
    "\n",
    "import numpy as np\n",
    "import cv2\n",
    "import matplotlib.pyplot as plt\n",
    "import matplotlib\n",
    "os.getcwd()\n",
    "INSPECTION_PATH = pathlib.Path(os.getcwd()).parent / \"country-backend\"\n",
    "sys.path.append(str(INSPECTION_PATH.absolute()))\n",
    "from country.model.predict import model\n",
    "from country.model.predict import preprocess, prediction, predict_image\n",
    "from country.explainer.new_lime_ import explain_image\n",
    "from PIL import Image"
   ],
   "metadata": {
    "collapsed": false,
    "pycharm": {
     "name": "#%%\n"
    }
   }
  },
  {
   "cell_type": "code",
   "execution_count": null,
   "outputs": [],
   "source": [
    "#load images\n",
    "images = []\n",
    "names = []\n",
    "labels = []\n",
    "\n",
    "#images -> load according to which model is used\n",
    "'''\n",
    "paths = [\"/Users/theresatroger/z_GTC_Results/Images2/Berlin\", \t#for both multiclass and binary country model\n",
    "\t\t\t\"/Users/theresatroger/z_GTC_Results/Images2/Hamburg\",\n",
    "\t\t\t\"/Users/theresatroger/z_GTC_Results/Images2/Tel_Aviv\",\n",
    "\t\t\t\"/Users/theresatroger/z_GTC_Results/Images2/Westjerusalem\"]\n",
    "'''\n",
    "'''\n",
    "paths = [\"/Users/theresatroger/z_GTC_Results/Images2/Berlin\", \t#for binary germany model\n",
    "\t\t\t\"/Users/theresatroger/z_GTC_Results/Images2/Hamburg\"]\n",
    "'''\n",
    "'''\n",
    "paths = [\"/Users/theresatroger/z_GTC_Results/Images2/Tel_Aviv\", #for binary israel model\n",
    "\t\t\t\"/Users/theresatroger/z_GTC_Results/Images2/Westjerusalem\"]\n",
    "'''\n",
    "paths = [\"/Users/theresatroger/z_GTC_Results/Umfrage_welches_Modell/Images/schwer/neu\"]\n",
    "pathresults = \"/Users/theresatroger/z_GTC_Results/Umfrage_welches_Modell/explanations/20220224_explanations/\" #results\n",
    "\n",
    "for path in paths:\n",
    "\tfor f in os.listdir(path):\n",
    "\t\tif f.endswith(\".png\"):\n",
    "\t\t\timages.append(cv2.imread(os.path.join(path,f)))\n",
    "\t\t\tnames.append(f)\n",
    "\t\t\tlabels.append(path.split(\"/\")[-1])\n"
   ],
   "metadata": {
    "collapsed": false,
    "pycharm": {
     "name": "#%%\n"
    }
   }
  },
  {
   "cell_type": "code",
   "execution_count": 2,
   "outputs": [],
   "source": [
    "# test 01_ seg_occ:\n",
    "# count occ of each segment of one image for N runs\n",
    "\n",
    "\n",
    "\n",
    "def seg_occ(img:np.ndarray)->np.ndarray:\n",
    "\timg = preprocess(img)\n",
    "\tprediction = predict_image(img)\n",
    "\timg = np.squeeze(img)\n",
    "\timage_explanation = explain_image(img = img, seg_method = \"slic\", seg_settings = {}, num_of_samples = 700, samples_p = 0.5,\n",
    "\t\t\t\t\tmodel_ = model, threshold = 0.5, volume = 20, colour =  \"green\", transparency = 0.7)\n",
    "\n",
    "\treturn np.array([])"
   ],
   "metadata": {
    "collapsed": false,
    "pycharm": {
     "name": "#%%\n"
    }
   }
  }
 ],
 "metadata": {
  "kernelspec": {
   "display_name": "Python 3",
   "language": "python",
   "name": "python3"
  },
  "language_info": {
   "codemirror_mode": {
    "name": "ipython",
    "version": 2
   },
   "file_extension": ".py",
   "mimetype": "text/x-python",
   "name": "python",
   "nbconvert_exporter": "python",
   "pygments_lexer": "ipython2",
   "version": "2.7.6"
  }
 },
 "nbformat": 4,
 "nbformat_minor": 0
}