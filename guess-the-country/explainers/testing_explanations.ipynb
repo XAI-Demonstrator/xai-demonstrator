{
 "cells": [
  {
   "cell_type": "code",
   "execution_count": 1,
   "metadata": {
    "collapsed": false,
    "pycharm": {
     "name": "#%%\n"
    }
   },
   "outputs": [
    {
     "name": "stderr",
     "output_type": "stream",
     "text": [
      "2022-02-26 18:21:28.677866: I tensorflow/core/platform/cpu_feature_guard.cc:151] This TensorFlow binary is optimized with oneAPI Deep Neural Network Library (oneDNN) to use the following CPU instructions in performance-critical operations:  AVX2 FMA\n",
      "To enable them in other operations, rebuild TensorFlow with the appropriate compiler flags.\n"
     ]
    }
   ],
   "source": [
    "import os, os.path\n",
    "import pathlib\n",
    "import random\n",
    "import sys\n",
    "\n",
    "import numpy as np\n",
    "import cv2\n",
    "import matplotlib.pyplot as plt\n",
    "import matplotlib\n",
    "os.getcwd()\n",
    "INSPECTION_PATH = pathlib.Path(os.getcwd()).parent / \"country-backend\"\n",
    "sys.path.append(str(INSPECTION_PATH.absolute()))\n",
    "from country.model.predict import model\n",
    "from country.model.predict import preprocess, prediction, predict_image\n",
    "from country.explainer.new_lime_ import explain_image, explain_image_for_seg_occ_test, create_segments\n",
    "from PIL import Image"
   ]
  },
  {
   "cell_type": "code",
   "execution_count": null,
   "metadata": {
    "collapsed": false,
    "pycharm": {
     "name": "#%%\n"
    }
   },
   "outputs": [],
   "source": [
    "#load images\n",
    "images = []\n",
    "\n",
    "pathimages = [\"/Users/theresatroger/z_GTC_Results/Umfrage_welches_Modell/Images/schwer/neu\"]\n",
    "pathresults = \"/Users/theresatroger/z_GTC_Results/Umfrage_welches_Modell/explanations/20220224_explanations/\" \n",
    "\n",
    "for path in pathimages:\n",
    "\tfor f in os.listdir(path):\n",
    "\t\tif f.endswith(\".png\"):\n",
    "\t\t\timages.append(cv2.imread(os.path.join(path,f)))\n"
   ]
  },
  {
   "cell_type": "code",
   "execution_count": 2,
   "metadata": {
    "collapsed": false,
    "pycharm": {
     "name": "#%%\n"
    }
   },
   "outputs": [
    {
     "name": "stdout",
     "output_type": "stream",
     "text": [
      "106\n",
      "0.7641509433962265\n"
     ]
    }
   ],
   "source": [
    "# test 01_ seg_occ:\n",
    "# count occ of each segment of one image for N runs\n",
    "\n",
    "#testimage\n",
    "image = cv2.imread(\"/Users/theresatroger/z_GTC_Results/Images1/Berlin/Berlin1.png\")\n",
    "\n",
    "# variable parameter options\n",
    "seg_method = \"slic\" \t\t# Options: [slic, felzenszwalb, quickshift, watershed]\n",
    "seg_settings = {}\t\t\t# Options: slic -> n_segments: [100, 150, 250, 350, 400] #ursprünglich 250\n",
    "\t\t\t\t\t\t\t#\t\t\tfelzenszwalb -> \n",
    "num_samples = 700\t\t\t# Options: \n",
    "samples_p = 0.5\n",
    "\n",
    "# setting\n",
    "runs_for_one_img = 4\n",
    "model_ = model\n",
    "threshold = 0.5\n",
    "volume = 20\n",
    "\n",
    "#methods\n",
    "def seg_occ(img:np.ndarray)->np.ndarray:\n",
    "\n",
    "\t\timage_indices = explain_image_for_seg_occ_test(img = img, seg_method = \"slic\", seg_settings = {}, num_of_samples = 700, samples_p = 0.5,\n",
    "\t\t\t\t\t\tmodel_ = model_, threshold = threshold, volume = volume, colour =  \"green\", transparency = 0.7, segment_mask = segment_mask)\n",
    "\t\treturn image_indices\n",
    "\n",
    "\n",
    "#for N images\n",
    "#...\n",
    "\n",
    "#call segmentation method und use it for one image -> same segmentation foor each run\n",
    "image = np.squeeze(preprocess(image))\n",
    "segment_mask = create_segments(img=image, seg_method=seg_method, settings=seg_settings)\n",
    "number_segments = np.unique(segment_mask).__len__()\n",
    "print (number_segments)\n",
    "# results indices\n",
    "indices_occ = np.zeros(number_segments)\n",
    "#for: amount of runs for one single image\n",
    "for r in range(runs_for_one_img):\n",
    "\tindices = seg_occ(image)\n",
    "\tfor i in indices:\n",
    "\t\tindices_occ[i] += 1\n",
    "metric_absolut = 0\n",
    "for s in indices_occ:\n",
    "\tmetric_absolut += abs(s - runs_for_one_img/2)\n",
    "metric_relative = metric_absolut/((runs_for_one_img/2)*indices_occ.__len__())\n",
    "print (metric_relative)\n"
   ]
  },
  {
   "cell_type": "code",
   "execution_count": null,
   "metadata": {},
   "outputs": [],
   "source": [
    "x = np.arange(number_segments)\n",
    "\n",
    "print (x)\n",
    "print (indices_occ)\n",
    "plt.scatter(x, indices_occ)\n",
    "plt.show()"
   ]
  }
 ],
 "metadata": {
  "kernelspec": {
   "display_name": "Python 3 (ipykernel)",
   "language": "python",
   "name": "python3"
  },
  "language_info": {
   "codemirror_mode": {
    "name": "ipython",
    "version": 3
   },
   "file_extension": ".py",
   "mimetype": "text/x-python",
   "name": "python",
   "nbconvert_exporter": "python",
   "pygments_lexer": "ipython3",
   "version": "3.8.12"
  }
 },
 "nbformat": 4,
 "nbformat_minor": 0
}