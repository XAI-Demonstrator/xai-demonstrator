{
 "cells": [
  {
   "cell_type": "code",
   "execution_count": 2,
   "metadata": {
    "collapsed": true
   },
   "outputs": [],
   "source": [
    "import os\n",
    "from PIL import Image\n",
    "import tensorflow as tf\n",
    "import numpy as np\n",
    "import pandas as pd"
   ]
  },
  {
   "cell_type": "code",
   "execution_count": 3,
   "outputs": [],
   "source": [
    "GERMAN_LABELS = {\n",
    "    \"reel\": \"eine Rolle\",\n",
    "    \"cellular_telephone\": \"ein Handy\",\n",
    "    \"modem\": \"ein Modem\",\n",
    "    \"computer_keyboard\": \"eine Tastatur\",\n",
    "    \"space_bar\": \"eine Leertaste\",\n",
    "    \"consomme\": \"eine Brühe\",\n",
    "    \"cup\": \"eine Tasse\",\n",
    "    \"espresso\": \"ein Espresso\",\n",
    "    \"face_powder\": \"Gesichtspuder\",\n",
    "    \"soap_dispenser\": \"Seifenspender\",\n",
    "    \"sarong\": \"ein Sarong\",\n",
    "    \"swimming_trunks\": \"eine Badehose\",\n",
    "    \"loupe\": \"eine Lupe\",\n",
    "    \"CD_player\": \"ein CD-Player\",\n",
    "    \"reflex_camera\": \"eine Foto-Kamera\",\n",
    "    \"lighter\": \"ein Feuerzeug\",\n",
    "    \"switch\": \"ein Schalter\",\n",
    "    \"crossword_puzzle\": \"ein Kreuzworträtsel\",\n",
    "    \"stethoscope\": \"ein Stethoskop\",\n",
    "    \"wallet\": \"ein Portemonnaie\",\n",
    "    \"iPod\": \"ein iPod\",\n",
    "    \"mouse\": \"eine Maus\",\n",
    "    \"magnetic_compass\": \"ein Kompass\",\n",
    "    \"strainer\": \"ein Sieb\",\n",
    "    \"pill_bottle\": \"eine Pillendose\",\n",
    "    \"handkerchief\": \"ein Taschentuch\",\n",
    "    \"saltshaker\": \"ein Salzstreuer\",\n",
    "    \"eggnog\": \"Eierlikör\",\n",
    "    \"ballpoint\": \"ein Kugelschreiber\",\n",
    "    \"chain\": \"eine Kette\",\n",
    "    \"loudspeaker\": \"ein Lautsprecher\",\n",
    "    \"remote_control\": \"eine Fernbedienung\",\n",
    "    \"combination_lock\": \"ein Zahlenschloss\",\n",
    "    \"thimble\": \"ein Fingerhut\",\n",
    "    \"hook\": \"ein Haken\",\n",
    "    \"whistle\": \"eine Pfeife\",\n",
    "    \"paper_towel\": \"ein Papierhandtuch\",\n",
    "    \"band_aid\": \"ein Pflaster\",\n",
    "    \"beaker\": \"ein Messbecher\",\n",
    "    \"bolo_tie\": \"eine Westernkrawatte\",\n",
    "    \"can_opener\": \"ein Dosenöffner\",\n",
    "    \"cassette\": \"eine Kassette\",\n",
    "    \"cleaver\": \"ein Hackmesser\",\n",
    "    \"cocktail_shaker\": \"ein Cocktail-Shaker\",\n",
    "    \"envelope\": \"ein Umschlag\",\n",
    "    \"harmonica\": \"eine Harmonika\",\n",
    "    \"pick\": \"ein Zahnstocher\",\n",
    "    \"purse\": \"eine Handtasche\",\n",
    "    \"racket\": \"ein Schläger\",\n",
    "    \"revolver\": \"ein Revolver\",\n",
    "    \"rule\": \"ein Lineal\",\n",
    "    \"safety_pin\": \"eine Sicherheitsnadel\",\n",
    "    \"shower_curtain\": \"ein Duschvorhang\",\n",
    "    \"spotlight\": \"ein Scheinwerfer\",\n",
    "    \"stopwatch\": \"eine Stoppuhr\",\n",
    "    \"sunglass\": \"ein Brennglas\",\n",
    "    \"toaster\": \"ein Toaster\",\n",
    "    \"toilet_seat\": \"eine Klobrille\",\n",
    "    \"velvet\": \"Samt\",\n",
    "    \"wall_clock\": \"eine Wanduhr\",\n",
    "    \"windsor_tie\": \"eine Windsor-Krawatte\",\n",
    "    \"notebook\": \"ein Notizbuch\",\n",
    "    \"hand-held_computer\": \"ein Taschencomputer\",\n",
    "    \"radio\": \"ein Radio\",\n",
    "    \"shower_cap\": \"eine Badehaube\",\n",
    "    \"diaper\": \"eine Windel\",\n",
    "    \"studio_couch\": \"eine Couch\",\n",
    "    \"polaroid_camera\": \"eine Polaroid-Kamera\",\n",
    "    \"analog_clock\": \"eine Analoguhr\",\n",
    "    \"sunglasses\": \"eine Sonnenbrille\",\n",
    "    \"hard_disc\": \"eine Festplatte\",\n",
    "    \"corkscrew\": \"eine Korkenzieher\",\n",
    "    \"digital_watch\": \"eine Digitaluhr\",\n",
    "    \"washer\": \"eine Waschmaschine\",\n",
    "    \"pencil_sharpener\": \"ein Anspitzer\",\n",
    "    \"tape_player\": \"ein Kassettenspieler\",\n",
    "    \"barometer\": \"ein Barometer\",\n",
    "    \"coffee_mug\": \"ein Kaffeebecher\",\n",
    "    \"nematode\": \"ein Fadenwurm\",\n",
    "    \"quill\": \"ein Federkiel\",\n",
    "    \"hair_slide\": \"eine Haarspange\",\n",
    "    \"nipple\": \"ein Babyflaschen-Aufsatz\",\n",
    "    \"petri_dish\": \"eine Petrischale\",\n",
    "    \"plate_rack\": \"ein Geschirr-Abtropfgitter\",\n",
    "    \"vase\": \"eine Vase\",\n",
    "    \"bubble\": \"eine Blase\",\n",
    "    \"plastic_bag\": \"eine Plastiktüte\",\n",
    "    \"lipstick\": \"ein Lippenstift\",\n",
    "    \"hand_blower\": \"ein Handbläser\"\n",
    "}\n"
   ],
   "metadata": {
    "collapsed": false,
    "pycharm": {
     "name": "#%%\n"
    }
   }
  },
  {
   "cell_type": "code",
   "execution_count": 4,
   "outputs": [],
   "source": [
    "model = tf.keras.applications.MobileNetV2(input_shape=None,\n",
    "                                          include_top=True,\n",
    "                                          weights=\"imagenet\")\n",
    "def preprocess(img):\n",
    "    img = img.resize((224, 224), Image.BICUBIC)\n",
    "    img_array = tf.keras.preprocessing.image.img_to_array(img)\n",
    "    img_array = np.expand_dims(img_array, axis=0)\n",
    "    img_array = img_array[:, :, :, :3]\n",
    "    return(tf.keras.applications.mobilenet_v2.preprocess_input(img_array))\n",
    "\n",
    "def predict_class(img):\n",
    "    model_input = preprocess(img)\n",
    "    prediction = model.predict(model_input)\n",
    "    original_label = tf.keras.applications.mobilenet_v2.decode_predictions(prediction, top=1)[0][0][1]\n",
    "    return(GERMAN_LABELS[original_label] if original_label in GERMAN_LABELS else original_label)"
   ],
   "metadata": {
    "collapsed": false,
    "pycharm": {
     "name": "#%%\n"
    }
   }
  },
  {
   "cell_type": "code",
   "execution_count": 5,
   "outputs": [
    {
     "data": {
      "text/plain": "   ein Handy  ein Kaffeebecher  ein Notizbuch  eine Foto-Kamera  eine Maus  \\\n0   0.238095               0.0            0.0               0.5   0.368421   \n\n   eine Sonnenbrille  eine Tastatur  key  \n0                0.0       0.684211  0.0  ",
      "text/html": "<div>\n<style scoped>\n    .dataframe tbody tr th:only-of-type {\n        vertical-align: middle;\n    }\n\n    .dataframe tbody tr th {\n        vertical-align: top;\n    }\n\n    .dataframe thead th {\n        text-align: right;\n    }\n</style>\n<table border=\"1\" class=\"dataframe\">\n  <thead>\n    <tr style=\"text-align: right;\">\n      <th></th>\n      <th>ein Handy</th>\n      <th>ein Kaffeebecher</th>\n      <th>ein Notizbuch</th>\n      <th>eine Foto-Kamera</th>\n      <th>eine Maus</th>\n      <th>eine Sonnenbrille</th>\n      <th>eine Tastatur</th>\n      <th>key</th>\n    </tr>\n  </thead>\n  <tbody>\n    <tr>\n      <th>0</th>\n      <td>0.238095</td>\n      <td>0.0</td>\n      <td>0.0</td>\n      <td>0.5</td>\n      <td>0.368421</td>\n      <td>0.0</td>\n      <td>0.684211</td>\n      <td>0.0</td>\n    </tr>\n  </tbody>\n</table>\n</div>"
     },
     "execution_count": 5,
     "metadata": {},
     "output_type": "execute_result"
    }
   ],
   "source": [
    "# get picture names:\n",
    "directory = 'C:/Users/miker/Documents/Hiwi/XIA/xai-demonstrator/visual-inspection/inspection-backend/log/'\n",
    "# filename is correct label\n",
    "labels = os.listdir(directory)\n",
    "true_predictions = np.zeros(len(labels))\n",
    "\n",
    "for i,filename in enumerate(labels):\n",
    "    for img in os.listdir(directory + filename):\n",
    "        path_to_img = directory + filename + '/'+ img\n",
    "        model_input = Image.open(path_to_img)\n",
    "        if filename == predict_class(model_input):\n",
    "            true_predictions[i] += 1\n",
    "\n",
    "    true_predictions[i] = true_predictions[i] / len(os.listdir(directory + filename))\n",
    "\n",
    "pd.DataFrame(true_predictions.reshape(1,-1), columns = labels)"
   ],
   "metadata": {
    "collapsed": false,
    "pycharm": {
     "name": "#%%\n"
    }
   }
  },
  {
   "cell_type": "code",
   "execution_count": null,
   "outputs": [],
   "source": [],
   "metadata": {
    "collapsed": false,
    "pycharm": {
     "name": "#%%\n"
    }
   }
  }
 ],
 "metadata": {
  "kernelspec": {
   "display_name": "Python 3",
   "language": "python",
   "name": "python3"
  },
  "language_info": {
   "codemirror_mode": {
    "name": "ipython",
    "version": 2
   },
   "file_extension": ".py",
   "mimetype": "text/x-python",
   "name": "python",
   "nbconvert_exporter": "python",
   "pygments_lexer": "ipython2",
   "version": "2.7.6"
  }
 },
 "nbformat": 4,
 "nbformat_minor": 0
}